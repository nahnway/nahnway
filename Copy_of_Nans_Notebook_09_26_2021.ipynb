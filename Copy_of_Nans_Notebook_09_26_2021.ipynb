{
  "nbformat": 4,
  "nbformat_minor": 0,
  "metadata": {
    "colab": {
      "name": "Copy of Nans Notebook_09.26.2021.ipynb",
      "provenance": [],
      "collapsed_sections": [],
      "include_colab_link": true
    },
    "kernelspec": {
      "name": "python3",
      "display_name": "Python 3"
    },
    "language_info": {
      "name": "python"
    }
  },
  "cells": [
    {
      "cell_type": "markdown",
      "metadata": {
        "id": "view-in-github",
        "colab_type": "text"
      },
      "source": [
        "<a href=\"https://colab.research.google.com/github/nahnway/nahnway/blob/main/Copy_of_Nans_Notebook_09_26_2021.ipynb\" target=\"_parent\"><img src=\"https://colab.research.google.com/assets/colab-badge.svg\" alt=\"Open In Colab\"/></a>"
      ]
    },
    {
      "cell_type": "code",
      "metadata": {
        "id": "EOJzfW5Fc0ms",
        "colab": {
          "base_uri": "https://localhost:8080/"
        },
        "outputId": "01aa63a2-ad2d-4a4a-bd7a-b19d5addf1dc"
      },
      "source": [
        "!pip install seaborn   \n",
        " \n",
        "from __future__ import absolute_import, division, print_function, unicode_literals\n",
        " \n",
        "import tensorflow as tf\n",
        "import pathlib\n",
        " \n",
        "import matplotlib.pyplot as plt\n",
        "import pandas as pd\n",
        "import seaborn as sns\n",
        " \n",
        "from tensorflow import keras\n",
        "from tensorflow.keras import layers\n",
        " \n",
        "print(tf.__version__)"
      ],
      "execution_count": null,
      "outputs": [
        {
          "output_type": "stream",
          "name": "stdout",
          "text": [
            "Requirement already satisfied: seaborn in /usr/local/lib/python3.7/dist-packages (0.11.2)\n",
            "Requirement already satisfied: matplotlib>=2.2 in /usr/local/lib/python3.7/dist-packages (from seaborn) (3.2.2)\n",
            "Requirement already satisfied: numpy>=1.15 in /usr/local/lib/python3.7/dist-packages (from seaborn) (1.19.5)\n",
            "Requirement already satisfied: pandas>=0.23 in /usr/local/lib/python3.7/dist-packages (from seaborn) (1.1.5)\n",
            "Requirement already satisfied: scipy>=1.0 in /usr/local/lib/python3.7/dist-packages (from seaborn) (1.4.1)\n",
            "Requirement already satisfied: python-dateutil>=2.1 in /usr/local/lib/python3.7/dist-packages (from matplotlib>=2.2->seaborn) (2.8.2)\n",
            "Requirement already satisfied: pyparsing!=2.0.4,!=2.1.2,!=2.1.6,>=2.0.1 in /usr/local/lib/python3.7/dist-packages (from matplotlib>=2.2->seaborn) (2.4.7)\n",
            "Requirement already satisfied: cycler>=0.10 in /usr/local/lib/python3.7/dist-packages (from matplotlib>=2.2->seaborn) (0.10.0)\n",
            "Requirement already satisfied: kiwisolver>=1.0.1 in /usr/local/lib/python3.7/dist-packages (from matplotlib>=2.2->seaborn) (1.3.2)\n",
            "Requirement already satisfied: six in /usr/local/lib/python3.7/dist-packages (from cycler>=0.10->matplotlib>=2.2->seaborn) (1.15.0)\n",
            "Requirement already satisfied: pytz>=2017.2 in /usr/local/lib/python3.7/dist-packages (from pandas>=0.23->seaborn) (2018.9)\n",
            "2.6.0\n"
          ]
        }
      ]
    },
    {
      "cell_type": "code",
      "metadata": {
        "id": "S3Pzv_fefkdt"
      },
      "source": [
        "import pandas as pd\n",
        "import numpy as np"
      ],
      "execution_count": null,
      "outputs": []
    },
    {
      "cell_type": "code",
      "metadata": {
        "id": "R7rbxH5_dmPu"
      },
      "source": [
        "from numpy import loadtxt\n",
        "from keras.models import Sequential\n",
        "from keras.layers import Dense"
      ],
      "execution_count": null,
      "outputs": []
    },
    {
      "cell_type": "code",
      "metadata": {
        "id": "uIFFD5mPexVo",
        "colab": {
          "base_uri": "https://localhost:8080/"
        },
        "outputId": "cacc309e-efd2-4474-84b5-b8b511e23ea1"
      },
      "source": [
        "!cat /content/Body data_20211008_nan_value.csv"
      ],
      "execution_count": null,
      "outputs": [
        {
          "output_type": "stream",
          "name": "stdout",
          "text": [
            "cat: /content/Body: No such file or directory\n",
            "cat: data_20211008_nan_value.csv: No such file or directory\n"
          ]
        }
      ]
    },
    {
      "cell_type": "code",
      "metadata": {
        "id": "Z1AghJegfpdJ",
        "colab": {
          "base_uri": "https://localhost:8080/",
          "height": 408
        },
        "outputId": "13917416-32c3-4eea-f790-915447cce2a9"
      },
      "source": [
        "df=pd.read_csv('/content/Body data_20211008_nan_value.csv')\n",
        "df"
      ],
      "execution_count": null,
      "outputs": [
        {
          "output_type": "execute_result",
          "data": {
            "text/html": [
              "<div>\n",
              "<style scoped>\n",
              "    .dataframe tbody tr th:only-of-type {\n",
              "        vertical-align: middle;\n",
              "    }\n",
              "\n",
              "    .dataframe tbody tr th {\n",
              "        vertical-align: top;\n",
              "    }\n",
              "\n",
              "    .dataframe thead th {\n",
              "        text-align: right;\n",
              "    }\n",
              "</style>\n",
              "<table border=\"1\" class=\"dataframe\">\n",
              "  <thead>\n",
              "    <tr style=\"text-align: right;\">\n",
              "      <th></th>\n",
              "      <th>Carrier</th>\n",
              "      <th>Conductivity</th>\n",
              "      <th>Solids</th>\n",
              "      <th>P/B</th>\n",
              "      <th>Max Volts</th>\n",
              "      <th>Amp Hours</th>\n",
              "      <th>Anolyte Conductivity</th>\n",
              "      <th>Anolyte pH</th>\n",
              "      <th>Process Minutes</th>\n",
              "      <th>Holding Time</th>\n",
              "      <th>Reading 1</th>\n",
              "      <th>Rating</th>\n",
              "    </tr>\n",
              "  </thead>\n",
              "  <tbody>\n",
              "    <tr>\n",
              "      <th>0</th>\n",
              "      <td>208</td>\n",
              "      <td>1722</td>\n",
              "      <td>11.098</td>\n",
              "      <td>0.0915</td>\n",
              "      <td>465</td>\n",
              "      <td>79.46</td>\n",
              "      <td>2750</td>\n",
              "      <td>3.46</td>\n",
              "      <td>8.22</td>\n",
              "      <td>2.72</td>\n",
              "      <td>1.97</td>\n",
              "      <td>G</td>\n",
              "    </tr>\n",
              "    <tr>\n",
              "      <th>1</th>\n",
              "      <td>274</td>\n",
              "      <td>1722</td>\n",
              "      <td>11.098</td>\n",
              "      <td>0.0915</td>\n",
              "      <td>465</td>\n",
              "      <td>79.39</td>\n",
              "      <td>2759</td>\n",
              "      <td>3.46</td>\n",
              "      <td>8.17</td>\n",
              "      <td>2.68</td>\n",
              "      <td>2.08</td>\n",
              "      <td>G</td>\n",
              "    </tr>\n",
              "    <tr>\n",
              "      <th>2</th>\n",
              "      <td>225</td>\n",
              "      <td>1722</td>\n",
              "      <td>11.098</td>\n",
              "      <td>0.0915</td>\n",
              "      <td>465</td>\n",
              "      <td>77.87</td>\n",
              "      <td>2765</td>\n",
              "      <td>3.46</td>\n",
              "      <td>8.17</td>\n",
              "      <td>2.68</td>\n",
              "      <td>2.01</td>\n",
              "      <td>G</td>\n",
              "    </tr>\n",
              "    <tr>\n",
              "      <th>3</th>\n",
              "      <td>206</td>\n",
              "      <td>1722</td>\n",
              "      <td>11.098</td>\n",
              "      <td>0.0915</td>\n",
              "      <td>465</td>\n",
              "      <td>78.61</td>\n",
              "      <td>2790</td>\n",
              "      <td>3.46</td>\n",
              "      <td>8.15</td>\n",
              "      <td>2.65</td>\n",
              "      <td>1.60</td>\n",
              "      <td>G</td>\n",
              "    </tr>\n",
              "    <tr>\n",
              "      <th>4</th>\n",
              "      <td>215</td>\n",
              "      <td>1722</td>\n",
              "      <td>11.098</td>\n",
              "      <td>0.0915</td>\n",
              "      <td>465</td>\n",
              "      <td>80.45</td>\n",
              "      <td>2756</td>\n",
              "      <td>3.45</td>\n",
              "      <td>8.22</td>\n",
              "      <td>2.72</td>\n",
              "      <td>1.95</td>\n",
              "      <td>G</td>\n",
              "    </tr>\n",
              "    <tr>\n",
              "      <th>...</th>\n",
              "      <td>...</td>\n",
              "      <td>...</td>\n",
              "      <td>...</td>\n",
              "      <td>...</td>\n",
              "      <td>...</td>\n",
              "      <td>...</td>\n",
              "      <td>...</td>\n",
              "      <td>...</td>\n",
              "      <td>...</td>\n",
              "      <td>...</td>\n",
              "      <td>...</td>\n",
              "      <td>...</td>\n",
              "    </tr>\n",
              "    <tr>\n",
              "      <th>2215</th>\n",
              "      <td>282</td>\n",
              "      <td>1669</td>\n",
              "      <td>10.120</td>\n",
              "      <td>0.1000</td>\n",
              "      <td>328</td>\n",
              "      <td>82.28</td>\n",
              "      <td>2409</td>\n",
              "      <td>3.75</td>\n",
              "      <td>5.65</td>\n",
              "      <td>0.15</td>\n",
              "      <td>0.28</td>\n",
              "      <td>G</td>\n",
              "    </tr>\n",
              "    <tr>\n",
              "      <th>2216</th>\n",
              "      <td>294</td>\n",
              "      <td>1669</td>\n",
              "      <td>10.120</td>\n",
              "      <td>0.1000</td>\n",
              "      <td>328</td>\n",
              "      <td>81.11</td>\n",
              "      <td>2454</td>\n",
              "      <td>3.75</td>\n",
              "      <td>0.00</td>\n",
              "      <td>2.80</td>\n",
              "      <td>0.43</td>\n",
              "      <td>G</td>\n",
              "    </tr>\n",
              "    <tr>\n",
              "      <th>2217</th>\n",
              "      <td>299</td>\n",
              "      <td>1669</td>\n",
              "      <td>10.120</td>\n",
              "      <td>0.1000</td>\n",
              "      <td>328</td>\n",
              "      <td>81.34</td>\n",
              "      <td>2474</td>\n",
              "      <td>3.75</td>\n",
              "      <td>8.30</td>\n",
              "      <td>2.82</td>\n",
              "      <td>0.38</td>\n",
              "      <td>G</td>\n",
              "    </tr>\n",
              "    <tr>\n",
              "      <th>2218</th>\n",
              "      <td>685</td>\n",
              "      <td>1667</td>\n",
              "      <td>10.120</td>\n",
              "      <td>0.1000</td>\n",
              "      <td>328</td>\n",
              "      <td>82.73</td>\n",
              "      <td>2519</td>\n",
              "      <td>3.75</td>\n",
              "      <td>8.30</td>\n",
              "      <td>2.80</td>\n",
              "      <td>0.36</td>\n",
              "      <td>G</td>\n",
              "    </tr>\n",
              "    <tr>\n",
              "      <th>2219</th>\n",
              "      <td>302</td>\n",
              "      <td>1667</td>\n",
              "      <td>10.120</td>\n",
              "      <td>0.1000</td>\n",
              "      <td>329</td>\n",
              "      <td>80.83</td>\n",
              "      <td>2569</td>\n",
              "      <td>3.73</td>\n",
              "      <td>8.30</td>\n",
              "      <td>2.80</td>\n",
              "      <td>0.37</td>\n",
              "      <td>G</td>\n",
              "    </tr>\n",
              "  </tbody>\n",
              "</table>\n",
              "<p>2220 rows × 12 columns</p>\n",
              "</div>"
            ],
            "text/plain": [
              "      Carrier  Conductivity  Solids  ...  Holding Time  Reading 1  Rating\n",
              "0         208          1722  11.098  ...          2.72       1.97       G\n",
              "1         274          1722  11.098  ...          2.68       2.08       G\n",
              "2         225          1722  11.098  ...          2.68       2.01       G\n",
              "3         206          1722  11.098  ...          2.65       1.60       G\n",
              "4         215          1722  11.098  ...          2.72       1.95       G\n",
              "...       ...           ...     ...  ...           ...        ...     ...\n",
              "2215      282          1669  10.120  ...          0.15       0.28       G\n",
              "2216      294          1669  10.120  ...          2.80       0.43       G\n",
              "2217      299          1669  10.120  ...          2.82       0.38       G\n",
              "2218      685          1667  10.120  ...          2.80       0.36       G\n",
              "2219      302          1667  10.120  ...          2.80       0.37       G\n",
              "\n",
              "[2220 rows x 12 columns]"
            ]
          },
          "metadata": {},
          "execution_count": 100
        }
      ]
    },
    {
      "cell_type": "code",
      "metadata": {
        "id": "DFl-uoghg0jy",
        "colab": {
          "base_uri": "https://localhost:8080/"
        },
        "outputId": "01424ff4-afbf-4351-d592-4ca4fce2fa6b"
      },
      "source": [
        "df.dtypes # check data types"
      ],
      "execution_count": null,
      "outputs": [
        {
          "output_type": "execute_result",
          "data": {
            "text/plain": [
              "Carrier                   int64\n",
              "Conductivity              int64\n",
              "Solids                  float64\n",
              "P/B                     float64\n",
              "Max Volts                 int64\n",
              "Amp Hours               float64\n",
              "Anolyte Conductivity      int64\n",
              "Anolyte pH              float64\n",
              "Process Minutes         float64\n",
              "Holding Time            float64\n",
              "Reading 1               float64\n",
              "Rating                   object\n",
              "dtype: object"
            ]
          },
          "metadata": {},
          "execution_count": 101
        }
      ]
    },
    {
      "cell_type": "code",
      "metadata": {
        "id": "MAKw8ENOgJ_7",
        "colab": {
          "base_uri": "https://localhost:8080/"
        },
        "outputId": "963130ff-e985-4878-9496-794fd1f792e4"
      },
      "source": [
        "df.shape"
      ],
      "execution_count": null,
      "outputs": [
        {
          "output_type": "execute_result",
          "data": {
            "text/plain": [
              "(2220, 12)"
            ]
          },
          "metadata": {},
          "execution_count": 102
        }
      ]
    },
    {
      "cell_type": "code",
      "metadata": {
        "id": "BHscHUV6NQbO",
        "colab": {
          "base_uri": "https://localhost:8080/"
        },
        "outputId": "ac899fe2-64ba-4d08-f098-1a0d2c650363"
      },
      "source": [
        "df['Rating'] # the label needs to be convert to numbers"
      ],
      "execution_count": null,
      "outputs": [
        {
          "output_type": "execute_result",
          "data": {
            "text/plain": [
              "0       G\n",
              "1       G\n",
              "2       G\n",
              "3       G\n",
              "4       G\n",
              "       ..\n",
              "2215    G\n",
              "2216    G\n",
              "2217    G\n",
              "2218    G\n",
              "2219    G\n",
              "Name: Rating, Length: 2220, dtype: object"
            ]
          },
          "metadata": {},
          "execution_count": 103
        }
      ]
    },
    {
      "cell_type": "code",
      "metadata": {
        "id": "CYIk_gcEMYur",
        "colab": {
          "base_uri": "https://localhost:8080/",
          "height": 200
        },
        "outputId": "b5eec3be-8fcb-4159-f4f4-7381b02b68dc"
      },
      "source": [
        "from sklearn.preprocessing import LabelEncoder\n",
        " \n",
        "cols = ['Rating']\n",
        " \n",
        "# Encode labels of multiple columns at once\n",
        "df[cols] = df[cols].apply(LabelEncoder().fit_transform)\n",
        " \n",
        "# Print head\n",
        "df.head()\n"
      ],
      "execution_count": null,
      "outputs": [
        {
          "output_type": "execute_result",
          "data": {
            "text/html": [
              "<div>\n",
              "<style scoped>\n",
              "    .dataframe tbody tr th:only-of-type {\n",
              "        vertical-align: middle;\n",
              "    }\n",
              "\n",
              "    .dataframe tbody tr th {\n",
              "        vertical-align: top;\n",
              "    }\n",
              "\n",
              "    .dataframe thead th {\n",
              "        text-align: right;\n",
              "    }\n",
              "</style>\n",
              "<table border=\"1\" class=\"dataframe\">\n",
              "  <thead>\n",
              "    <tr style=\"text-align: right;\">\n",
              "      <th></th>\n",
              "      <th>Carrier</th>\n",
              "      <th>Conductivity</th>\n",
              "      <th>Solids</th>\n",
              "      <th>P/B</th>\n",
              "      <th>Max Volts</th>\n",
              "      <th>Amp Hours</th>\n",
              "      <th>Anolyte Conductivity</th>\n",
              "      <th>Anolyte pH</th>\n",
              "      <th>Process Minutes</th>\n",
              "      <th>Holding Time</th>\n",
              "      <th>Reading 1</th>\n",
              "      <th>Rating</th>\n",
              "    </tr>\n",
              "  </thead>\n",
              "  <tbody>\n",
              "    <tr>\n",
              "      <th>0</th>\n",
              "      <td>208</td>\n",
              "      <td>1722</td>\n",
              "      <td>11.098</td>\n",
              "      <td>0.0915</td>\n",
              "      <td>465</td>\n",
              "      <td>79.46</td>\n",
              "      <td>2750</td>\n",
              "      <td>3.46</td>\n",
              "      <td>8.22</td>\n",
              "      <td>2.72</td>\n",
              "      <td>1.97</td>\n",
              "      <td>0</td>\n",
              "    </tr>\n",
              "    <tr>\n",
              "      <th>1</th>\n",
              "      <td>274</td>\n",
              "      <td>1722</td>\n",
              "      <td>11.098</td>\n",
              "      <td>0.0915</td>\n",
              "      <td>465</td>\n",
              "      <td>79.39</td>\n",
              "      <td>2759</td>\n",
              "      <td>3.46</td>\n",
              "      <td>8.17</td>\n",
              "      <td>2.68</td>\n",
              "      <td>2.08</td>\n",
              "      <td>0</td>\n",
              "    </tr>\n",
              "    <tr>\n",
              "      <th>2</th>\n",
              "      <td>225</td>\n",
              "      <td>1722</td>\n",
              "      <td>11.098</td>\n",
              "      <td>0.0915</td>\n",
              "      <td>465</td>\n",
              "      <td>77.87</td>\n",
              "      <td>2765</td>\n",
              "      <td>3.46</td>\n",
              "      <td>8.17</td>\n",
              "      <td>2.68</td>\n",
              "      <td>2.01</td>\n",
              "      <td>0</td>\n",
              "    </tr>\n",
              "    <tr>\n",
              "      <th>3</th>\n",
              "      <td>206</td>\n",
              "      <td>1722</td>\n",
              "      <td>11.098</td>\n",
              "      <td>0.0915</td>\n",
              "      <td>465</td>\n",
              "      <td>78.61</td>\n",
              "      <td>2790</td>\n",
              "      <td>3.46</td>\n",
              "      <td>8.15</td>\n",
              "      <td>2.65</td>\n",
              "      <td>1.60</td>\n",
              "      <td>0</td>\n",
              "    </tr>\n",
              "    <tr>\n",
              "      <th>4</th>\n",
              "      <td>215</td>\n",
              "      <td>1722</td>\n",
              "      <td>11.098</td>\n",
              "      <td>0.0915</td>\n",
              "      <td>465</td>\n",
              "      <td>80.45</td>\n",
              "      <td>2756</td>\n",
              "      <td>3.45</td>\n",
              "      <td>8.22</td>\n",
              "      <td>2.72</td>\n",
              "      <td>1.95</td>\n",
              "      <td>0</td>\n",
              "    </tr>\n",
              "  </tbody>\n",
              "</table>\n",
              "</div>"
            ],
            "text/plain": [
              "   Carrier  Conductivity  Solids  ...  Holding Time  Reading 1  Rating\n",
              "0      208          1722  11.098  ...          2.72       1.97       0\n",
              "1      274          1722  11.098  ...          2.68       2.08       0\n",
              "2      225          1722  11.098  ...          2.68       2.01       0\n",
              "3      206          1722  11.098  ...          2.65       1.60       0\n",
              "4      215          1722  11.098  ...          2.72       1.95       0\n",
              "\n",
              "[5 rows x 12 columns]"
            ]
          },
          "metadata": {},
          "execution_count": 104
        }
      ]
    },
    {
      "cell_type": "code",
      "metadata": {
        "id": "nKpZ0CudOaJL"
      },
      "source": [
        "data = df.drop('Rating', axis=1)\n",
        "data = data.values\n",
        "\n",
        "labels= df.Rating\n",
        "labels = labels.values"
      ],
      "execution_count": null,
      "outputs": []
    },
    {
      "cell_type": "code",
      "metadata": {
        "id": "nn2SnRwxiOw2"
      },
      "source": [
        "from sklearn.model_selection import train_test_split\n",
        "\n",
        "X_train, X_test, y_train, y_test = train_test_split(data, labels, test_size = 0.20, random_state=0)\n"
      ],
      "execution_count": null,
      "outputs": []
    },
    {
      "cell_type": "code",
      "metadata": {
        "id": "-LT8Hop9RDaM",
        "colab": {
          "base_uri": "https://localhost:8080/"
        },
        "outputId": "f6251011-1f66-46eb-bdfb-c40d4959de3e"
      },
      "source": [
        "y_train.shape, y_test.shape"
      ],
      "execution_count": null,
      "outputs": [
        {
          "output_type": "execute_result",
          "data": {
            "text/plain": [
              "((1776,), (444,))"
            ]
          },
          "metadata": {},
          "execution_count": 107
        }
      ]
    },
    {
      "cell_type": "code",
      "metadata": {
        "id": "nGEVZuqwP3KZ",
        "colab": {
          "base_uri": "https://localhost:8080/"
        },
        "outputId": "6915274b-464e-4ce1-f84c-1e707a281edf"
      },
      "source": [
        "y_train"
      ],
      "execution_count": null,
      "outputs": [
        {
          "output_type": "execute_result",
          "data": {
            "text/plain": [
              "array([0, 0, 0, ..., 0, 1, 0])"
            ]
          },
          "metadata": {},
          "execution_count": 108
        }
      ]
    },
    {
      "cell_type": "code",
      "metadata": {
        "id": "OgZ9iWf-QF36"
      },
      "source": [
        "n_classes = 3\n",
        "y_train = keras.utils.to_categorical(y_train, n_classes)\n",
        "y_test = keras.utils.to_categorical(y_test, n_classes)"
      ],
      "execution_count": null,
      "outputs": []
    },
    {
      "cell_type": "code",
      "metadata": {
        "id": "vRG9_XJOQ-7-",
        "colab": {
          "base_uri": "https://localhost:8080/"
        },
        "outputId": "d932f4a1-6ca2-40d8-e7ac-e64e1b369efd"
      },
      "source": [
        "y_train.shape, y_test.shape"
      ],
      "execution_count": null,
      "outputs": [
        {
          "output_type": "execute_result",
          "data": {
            "text/plain": [
              "((1776, 3), (444, 3))"
            ]
          },
          "metadata": {},
          "execution_count": 110
        }
      ]
    },
    {
      "cell_type": "code",
      "metadata": {
        "id": "lml3om2PcA3j",
        "colab": {
          "base_uri": "https://localhost:8080/"
        },
        "outputId": "70caa050-1870-4484-c373-6470483b048b"
      },
      "source": [
        "# Design neural network architecture\n",
        "\n",
        "model = Sequential()\n",
        "model.add(Dense(20, input_dim=11, activation='relu'))\n",
        "model.add(Dense(20, activation='relu'))\n",
        "model.add(Dense(3, activation='softmax'))\n",
        " \n",
        "model.summary()"
      ],
      "execution_count": null,
      "outputs": [
        {
          "output_type": "stream",
          "name": "stdout",
          "text": [
            "Model: \"sequential_6\"\n",
            "_________________________________________________________________\n",
            "Layer (type)                 Output Shape              Param #   \n",
            "=================================================================\n",
            "dense_18 (Dense)             (None, 20)                240       \n",
            "_________________________________________________________________\n",
            "dense_19 (Dense)             (None, 20)                420       \n",
            "_________________________________________________________________\n",
            "dense_20 (Dense)             (None, 3)                 63        \n",
            "=================================================================\n",
            "Total params: 723\n",
            "Trainable params: 723\n",
            "Non-trainable params: 0\n",
            "_________________________________________________________________\n"
          ]
        }
      ]
    },
    {
      "cell_type": "code",
      "metadata": {
        "id": "tryy24sXSLWT"
      },
      "source": [
        "model.compile(\n",
        "    loss='categorical_crossentropy', \n",
        "    optimizer='adam', \n",
        "    metrics=['accuracy']\n",
        ")"
      ],
      "execution_count": null,
      "outputs": []
    },
    {
      "cell_type": "code",
      "metadata": {
        "id": "aCWlf7B5Sral",
        "colab": {
          "base_uri": "https://localhost:8080/"
        },
        "outputId": "0536b3d4-c62e-411d-fcc2-2344b737b473"
      },
      "source": [
        "model.fit(X_train, y_train, \n",
        "          batch_size=10, \n",
        "          epochs=50, \n",
        "          verbose=1, \n",
        "          validation_data=(X_test, y_test))"
      ],
      "execution_count": null,
      "outputs": [
        {
          "output_type": "stream",
          "name": "stdout",
          "text": [
            "Epoch 1/50\n",
            "178/178 [==============================] - 1s 3ms/step - loss: 73.1178 - accuracy: 0.6599 - val_loss: 3.0824 - val_accuracy: 0.8694\n",
            "Epoch 2/50\n",
            "178/178 [==============================] - 0s 2ms/step - loss: 1.8515 - accuracy: 0.8294 - val_loss: 1.6767 - val_accuracy: 0.9077\n",
            "Epoch 3/50\n",
            "178/178 [==============================] - 0s 2ms/step - loss: 1.1673 - accuracy: 0.8345 - val_loss: 0.8897 - val_accuracy: 0.7770\n",
            "Epoch 4/50\n",
            "178/178 [==============================] - 0s 2ms/step - loss: 0.9854 - accuracy: 0.8423 - val_loss: 0.7010 - val_accuracy: 0.9144\n",
            "Epoch 5/50\n",
            "178/178 [==============================] - 0s 2ms/step - loss: 0.8671 - accuracy: 0.8497 - val_loss: 1.2439 - val_accuracy: 0.9167\n",
            "Epoch 6/50\n",
            "178/178 [==============================] - 0s 2ms/step - loss: 1.0680 - accuracy: 0.8356 - val_loss: 1.5020 - val_accuracy: 0.4414\n",
            "Epoch 7/50\n",
            "178/178 [==============================] - 0s 2ms/step - loss: 1.1675 - accuracy: 0.8378 - val_loss: 0.7866 - val_accuracy: 0.9144\n",
            "Epoch 8/50\n",
            "178/178 [==============================] - 0s 2ms/step - loss: 0.8269 - accuracy: 0.8514 - val_loss: 0.7749 - val_accuracy: 0.7995\n",
            "Epoch 9/50\n",
            "178/178 [==============================] - 0s 2ms/step - loss: 0.9805 - accuracy: 0.8519 - val_loss: 0.8548 - val_accuracy: 0.9189\n",
            "Epoch 10/50\n",
            "178/178 [==============================] - 0s 2ms/step - loss: 1.0608 - accuracy: 0.8373 - val_loss: 1.2791 - val_accuracy: 0.7140\n",
            "Epoch 11/50\n",
            "178/178 [==============================] - 0s 2ms/step - loss: 1.3840 - accuracy: 0.8277 - val_loss: 0.7749 - val_accuracy: 0.8671\n",
            "Epoch 12/50\n",
            "178/178 [==============================] - 0s 2ms/step - loss: 0.9848 - accuracy: 0.8497 - val_loss: 0.9256 - val_accuracy: 0.7545\n",
            "Epoch 13/50\n",
            "178/178 [==============================] - 0s 2ms/step - loss: 0.8060 - accuracy: 0.8559 - val_loss: 0.8153 - val_accuracy: 0.8153\n",
            "Epoch 14/50\n",
            "178/178 [==============================] - 0s 2ms/step - loss: 0.9529 - accuracy: 0.8463 - val_loss: 0.6912 - val_accuracy: 0.8806\n",
            "Epoch 15/50\n",
            "178/178 [==============================] - 0s 2ms/step - loss: 0.9740 - accuracy: 0.8356 - val_loss: 1.3547 - val_accuracy: 0.9189\n",
            "Epoch 16/50\n",
            "178/178 [==============================] - 0s 2ms/step - loss: 1.0092 - accuracy: 0.8530 - val_loss: 0.7474 - val_accuracy: 0.9189\n",
            "Epoch 17/50\n",
            "178/178 [==============================] - 0s 2ms/step - loss: 0.8971 - accuracy: 0.8570 - val_loss: 1.0820 - val_accuracy: 0.9189\n",
            "Epoch 18/50\n",
            "178/178 [==============================] - 0s 2ms/step - loss: 0.8236 - accuracy: 0.8547 - val_loss: 1.0132 - val_accuracy: 0.4054\n",
            "Epoch 19/50\n",
            "178/178 [==============================] - 0s 2ms/step - loss: 0.8466 - accuracy: 0.8575 - val_loss: 0.6161 - val_accuracy: 0.9167\n",
            "Epoch 20/50\n",
            "178/178 [==============================] - 0s 2ms/step - loss: 0.9675 - accuracy: 0.8491 - val_loss: 0.5794 - val_accuracy: 0.9189\n",
            "Epoch 21/50\n",
            "178/178 [==============================] - 0s 2ms/step - loss: 0.8454 - accuracy: 0.8604 - val_loss: 0.6246 - val_accuracy: 0.9144\n",
            "Epoch 22/50\n",
            "178/178 [==============================] - 0s 2ms/step - loss: 0.7280 - accuracy: 0.8620 - val_loss: 0.4723 - val_accuracy: 0.9099\n",
            "Epoch 23/50\n",
            "178/178 [==============================] - 0s 2ms/step - loss: 0.6950 - accuracy: 0.8649 - val_loss: 0.6147 - val_accuracy: 0.9189\n",
            "Epoch 24/50\n",
            "178/178 [==============================] - 0s 2ms/step - loss: 0.7741 - accuracy: 0.8519 - val_loss: 0.9827 - val_accuracy: 0.9189\n",
            "Epoch 25/50\n",
            "178/178 [==============================] - 0s 2ms/step - loss: 0.9574 - accuracy: 0.8502 - val_loss: 1.3232 - val_accuracy: 0.4167\n",
            "Epoch 26/50\n",
            "178/178 [==============================] - 0s 2ms/step - loss: 0.7029 - accuracy: 0.8677 - val_loss: 0.6048 - val_accuracy: 0.8829\n",
            "Epoch 27/50\n",
            "178/178 [==============================] - 0s 2ms/step - loss: 0.7338 - accuracy: 0.8677 - val_loss: 0.9880 - val_accuracy: 0.9189\n",
            "Epoch 28/50\n",
            "178/178 [==============================] - 0s 2ms/step - loss: 0.7540 - accuracy: 0.8592 - val_loss: 0.6656 - val_accuracy: 0.9099\n",
            "Epoch 29/50\n",
            "178/178 [==============================] - 0s 2ms/step - loss: 0.7081 - accuracy: 0.8632 - val_loss: 0.9930 - val_accuracy: 0.9189\n",
            "Epoch 30/50\n",
            "178/178 [==============================] - 0s 2ms/step - loss: 0.9221 - accuracy: 0.8485 - val_loss: 0.5878 - val_accuracy: 0.9189\n",
            "Epoch 31/50\n",
            "178/178 [==============================] - 0s 2ms/step - loss: 0.8760 - accuracy: 0.8598 - val_loss: 0.8634 - val_accuracy: 0.9122\n",
            "Epoch 32/50\n",
            "178/178 [==============================] - 0s 2ms/step - loss: 0.6050 - accuracy: 0.8806 - val_loss: 0.5461 - val_accuracy: 0.9122\n",
            "Epoch 33/50\n",
            "178/178 [==============================] - 0s 2ms/step - loss: 0.6339 - accuracy: 0.8801 - val_loss: 0.7428 - val_accuracy: 0.7545\n",
            "Epoch 34/50\n",
            "178/178 [==============================] - 0s 2ms/step - loss: 0.7235 - accuracy: 0.8699 - val_loss: 0.6828 - val_accuracy: 0.9189\n",
            "Epoch 35/50\n",
            "178/178 [==============================] - 0s 2ms/step - loss: 0.6952 - accuracy: 0.8666 - val_loss: 1.3055 - val_accuracy: 0.9189\n",
            "Epoch 36/50\n",
            "178/178 [==============================] - 0s 2ms/step - loss: 0.7236 - accuracy: 0.8761 - val_loss: 0.8851 - val_accuracy: 0.7207\n",
            "Epoch 37/50\n",
            "178/178 [==============================] - 0s 2ms/step - loss: 0.6322 - accuracy: 0.8733 - val_loss: 0.5850 - val_accuracy: 0.9077\n",
            "Epoch 38/50\n",
            "178/178 [==============================] - 0s 2ms/step - loss: 0.8306 - accuracy: 0.8575 - val_loss: 0.9279 - val_accuracy: 0.9189\n",
            "Epoch 39/50\n",
            "178/178 [==============================] - 0s 2ms/step - loss: 0.7077 - accuracy: 0.8660 - val_loss: 0.5778 - val_accuracy: 0.9189\n",
            "Epoch 40/50\n",
            "178/178 [==============================] - 0s 2ms/step - loss: 0.6664 - accuracy: 0.8682 - val_loss: 0.6410 - val_accuracy: 0.8986\n",
            "Epoch 41/50\n",
            "178/178 [==============================] - 0s 2ms/step - loss: 0.6207 - accuracy: 0.8756 - val_loss: 1.5973 - val_accuracy: 0.1959\n",
            "Epoch 42/50\n",
            "178/178 [==============================] - 0s 2ms/step - loss: 0.6508 - accuracy: 0.8773 - val_loss: 0.4284 - val_accuracy: 0.9189\n",
            "Epoch 43/50\n",
            "178/178 [==============================] - 0s 2ms/step - loss: 0.6146 - accuracy: 0.8711 - val_loss: 0.4577 - val_accuracy: 0.9122\n",
            "Epoch 44/50\n",
            "178/178 [==============================] - 0s 2ms/step - loss: 0.5582 - accuracy: 0.8818 - val_loss: 0.9730 - val_accuracy: 0.9189\n",
            "Epoch 45/50\n",
            "178/178 [==============================] - 0s 2ms/step - loss: 0.6752 - accuracy: 0.8733 - val_loss: 0.4806 - val_accuracy: 0.9144\n",
            "Epoch 46/50\n",
            "178/178 [==============================] - 0s 2ms/step - loss: 0.5468 - accuracy: 0.8874 - val_loss: 0.5773 - val_accuracy: 0.9167\n",
            "Epoch 47/50\n",
            "178/178 [==============================] - 0s 2ms/step - loss: 0.6075 - accuracy: 0.8806 - val_loss: 0.5461 - val_accuracy: 0.9189\n",
            "Epoch 48/50\n",
            "178/178 [==============================] - 0s 2ms/step - loss: 0.6311 - accuracy: 0.8773 - val_loss: 0.4370 - val_accuracy: 0.9189\n",
            "Epoch 49/50\n",
            "178/178 [==============================] - 0s 2ms/step - loss: 0.5021 - accuracy: 0.8908 - val_loss: 0.5214 - val_accuracy: 0.9099\n",
            "Epoch 50/50\n",
            "178/178 [==============================] - 0s 2ms/step - loss: 0.5586 - accuracy: 0.8863 - val_loss: 0.5029 - val_accuracy: 0.9189\n"
          ]
        },
        {
          "output_type": "execute_result",
          "data": {
            "text/plain": [
              "<keras.callbacks.History at 0x7fc0a4f7c450>"
            ]
          },
          "metadata": {},
          "execution_count": 116
        }
      ]
    }
  ]
}