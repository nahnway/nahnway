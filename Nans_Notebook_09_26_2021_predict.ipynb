{
  "nbformat": 4,
  "nbformat_minor": 0,
  "metadata": {
    "colab": {
      "name": "Nans_Notebook_09_26_2021 - predict.ipynb",
      "private_outputs": true,
      "provenance": [],
      "collapsed_sections": [],
      "include_colab_link": true
    },
    "kernelspec": {
      "name": "python3",
      "display_name": "Python 3"
    },
    "language_info": {
      "name": "python"
    }
  },
  "cells": [
    {
      "cell_type": "markdown",
      "metadata": {
        "id": "view-in-github",
        "colab_type": "text"
      },
      "source": [
        "<a href=\"https://colab.research.google.com/github/nahnway/nahnway/blob/main/Nans_Notebook_09_26_2021_predict.ipynb\" target=\"_parent\"><img src=\"https://colab.research.google.com/assets/colab-badge.svg\" alt=\"Open In Colab\"/></a>"
      ]
    },
    {
      "cell_type": "markdown",
      "source": [
        "# **Import libraries**"
      ],
      "metadata": {
        "id": "D2mFkBgDF853"
      }
    },
    {
      "cell_type": "code",
      "metadata": {
        "id": "EOJzfW5Fc0ms"
      },
      "source": [
        "!pip install seaborn   \n",
        " \n",
        "from __future__ import absolute_import, division, print_function, unicode_literals\n",
        " \n",
        "import tensorflow as tf\n",
        "import pathlib\n",
        " \n",
        "import matplotlib.pyplot as plt\n",
        "import pandas as pd\n",
        "import seaborn as sns\n",
        " \n",
        "from tensorflow import keras\n",
        "from tensorflow.keras import layers\n",
        " \n",
        "print(tf.__version__)"
      ],
      "execution_count": null,
      "outputs": []
    },
    {
      "cell_type": "markdown",
      "source": [
        "# **Import More Libraries**"
      ],
      "metadata": {
        "id": "91gSPZTiG9vj"
      }
    },
    {
      "cell_type": "code",
      "metadata": {
        "id": "S3Pzv_fefkdt"
      },
      "source": [
        "import pandas as pd\n",
        "import numpy as np"
      ],
      "execution_count": null,
      "outputs": []
    },
    {
      "cell_type": "code",
      "metadata": {
        "id": "R7rbxH5_dmPu"
      },
      "source": [
        "from numpy import loadtxt\n",
        "from keras.models import Sequential\n",
        "from keras.layers import Dense"
      ],
      "execution_count": null,
      "outputs": []
    },
    {
      "cell_type": "markdown",
      "source": [
        "# **Use !cat to get csv file.**\n",
        "# **(Didn't seem to work but not needed.  Pandas can import a csv file.)**"
      ],
      "metadata": {
        "id": "8nxYjj--HOCB"
      }
    },
    {
      "cell_type": "code",
      "metadata": {
        "id": "uIFFD5mPexVo"
      },
      "source": [
        "!cat /content/Body data_20210915_clean.csv"
      ],
      "execution_count": null,
      "outputs": []
    },
    {
      "cell_type": "markdown",
      "source": [
        "# **Use Pandas (pd) to import csv data file and make a dataframe (df). Print out df.**"
      ],
      "metadata": {
        "id": "Ob48vLKoHykl"
      }
    },
    {
      "cell_type": "code",
      "metadata": {
        "id": "Z1AghJegfpdJ"
      },
      "source": [
        "df=pd.read_csv('/content/Body data_20210915_clean.csv')\n",
        "df"
      ],
      "execution_count": null,
      "outputs": []
    },
    {
      "cell_type": "markdown",
      "source": [
        "# **Check data types of each column of the dataframe (df)**"
      ],
      "metadata": {
        "id": "0n0z6wWSIxcD"
      }
    },
    {
      "cell_type": "code",
      "metadata": {
        "id": "DFl-uoghg0jy"
      },
      "source": [
        "df.dtypes # check data types"
      ],
      "execution_count": null,
      "outputs": []
    },
    {
      "cell_type": "markdown",
      "source": [
        "# **Check the shape (rows, columns) of df**"
      ],
      "metadata": {
        "id": "l5V7iEqvJPUu"
      }
    },
    {
      "cell_type": "code",
      "metadata": {
        "id": "MAKw8ENOgJ_7"
      },
      "source": [
        "df.shape"
      ],
      "execution_count": null,
      "outputs": []
    },
    {
      "cell_type": "markdown",
      "source": [
        "# **List the values of \"Rating\" column.**"
      ],
      "metadata": {
        "id": "bHNa_F3nJuw5"
      }
    },
    {
      "cell_type": "code",
      "metadata": {
        "id": "BHscHUV6NQbO"
      },
      "source": [
        "df['Rating'] # the label needs to be convert to numbers"
      ],
      "execution_count": null,
      "outputs": []
    },
    {
      "cell_type": "markdown",
      "source": [
        "## **Import \"LabelEncoder\". Encode labels. Display \"head\" (first 5 rows).**"
      ],
      "metadata": {
        "id": "Q33lQYT9MlwE"
      }
    },
    {
      "cell_type": "code",
      "metadata": {
        "id": "CYIk_gcEMYur"
      },
      "source": [
        "from sklearn.preprocessing import LabelEncoder\n",
        " \n",
        "cols = ['Rating']\n",
        " \n",
        "# Encode labels of multiple columns at once\n",
        "df[cols] = df[cols].apply(LabelEncoder().fit_transform)\n",
        " \n",
        "# Print head\n",
        "df.head()\n"
      ],
      "execution_count": null,
      "outputs": []
    },
    {
      "cell_type": "markdown",
      "source": [
        "# **Drop \"Rating\" column for df and call it \"data\". Then get value for data.**\n",
        "# **Get only \"Labels\" column from df and call it \"labels\". Then get values for labels.**"
      ],
      "metadata": {
        "id": "ouL2kPazO97a"
      }
    },
    {
      "cell_type": "code",
      "metadata": {
        "id": "nKpZ0CudOaJL"
      },
      "source": [
        "data = df.drop('Rating', axis=1)\n",
        "data = data.values\n",
        "\n",
        "labels= df.Rating\n",
        "labels = labels.values"
      ],
      "execution_count": null,
      "outputs": []
    },
    {
      "cell_type": "markdown",
      "source": [
        "# **Import \"train_test_split\" from \"sklearn.model_selection\", and split the data to use 20% for test data.**"
      ],
      "metadata": {
        "id": "hIPDAMrOQJVi"
      }
    },
    {
      "cell_type": "code",
      "metadata": {
        "id": "nn2SnRwxiOw2"
      },
      "source": [
        "from sklearn.model_selection import train_test_split\n",
        "\n",
        "X_train, X_test, y_train, y_test = train_test_split(data, labels, test_size = 0.20, random_state=0)\n"
      ],
      "execution_count": null,
      "outputs": []
    },
    {
      "cell_type": "markdown",
      "source": [
        "# **Display number of rows in \"train\" data set and in \"test\" data set.**"
      ],
      "metadata": {
        "id": "Do99FUdxQ3dP"
      }
    },
    {
      "cell_type": "code",
      "metadata": {
        "id": "-LT8Hop9RDaM"
      },
      "source": [
        "y_train.shape, y_test.shape"
      ],
      "execution_count": null,
      "outputs": []
    },
    {
      "cell_type": "markdown",
      "source": [
        "# **Display y_train array.**"
      ],
      "metadata": {
        "id": "CwPZQ0CdTU5w"
      }
    },
    {
      "cell_type": "code",
      "metadata": {
        "id": "nGEVZuqwP3KZ"
      },
      "source": [
        "y_train"
      ],
      "execution_count": null,
      "outputs": []
    },
    {
      "cell_type": "markdown",
      "source": [
        "# **What is \"n_classes\"**"
      ],
      "metadata": {
        "id": "Xo_Ke0GaUMSg"
      }
    },
    {
      "cell_type": "code",
      "metadata": {
        "id": "OgZ9iWf-QF36"
      },
      "source": [
        "n_classes = 3\n",
        "y_train = keras.utils.to_categorical(y_train, n_classes)\n",
        "y_test = keras.utils.to_categorical(y_test, n_classes)"
      ],
      "execution_count": null,
      "outputs": []
    },
    {
      "cell_type": "markdown",
      "source": [
        ""
      ],
      "metadata": {
        "id": "nvsDPGQfUhJ3"
      }
    },
    {
      "cell_type": "markdown",
      "source": [
        "## **Again?  Display number of rows in \"train\" data set and in \"test\" data set.**"
      ],
      "metadata": {
        "id": "FcbgErU-Uu9R"
      }
    },
    {
      "cell_type": "code",
      "metadata": {
        "id": "vRG9_XJOQ-7-"
      },
      "source": [
        "y_train.shape, y_test.shape"
      ],
      "execution_count": null,
      "outputs": []
    },
    {
      "cell_type": "markdown",
      "source": [
        "# **Design Sequential Dense Neural Network model with 2 hidden layers of 20 neurons each and an output layer of 3 neurons. Then disply model summary.**"
      ],
      "metadata": {
        "id": "c5UeC7rDVZdR"
      }
    },
    {
      "cell_type": "code",
      "metadata": {
        "id": "lml3om2PcA3j"
      },
      "source": [
        "# Design neural network architecture\n",
        "\n",
        "model = Sequential()\n",
        "model.add(Dense(20, input_dim=12, activation='relu'))\n",
        "model.add(Dense(20, activation='relu'))\n",
        "model.add(Dense(3, activation='softmax'))\n",
        " \n",
        "model.summary()"
      ],
      "execution_count": null,
      "outputs": []
    },
    {
      "cell_type": "markdown",
      "source": [
        "# **Compile the model.** "
      ],
      "metadata": {
        "id": "V4-L4BfeXLZ9"
      }
    },
    {
      "cell_type": "code",
      "metadata": {
        "id": "tryy24sXSLWT"
      },
      "source": [
        "model.compile(\n",
        "    loss='categorical_crossentropy', \n",
        "    optimizer='adam', \n",
        "    metrics=['accuracy']\n",
        ")"
      ],
      "execution_count": null,
      "outputs": []
    },
    {
      "cell_type": "markdown",
      "source": [
        "# **Run model with up to 50 epochs, with cross validation.**"
      ],
      "metadata": {
        "id": "M51bT2mDXZ-1"
      }
    },
    {
      "cell_type": "code",
      "metadata": {
        "id": "aCWlf7B5Sral"
      },
      "source": [
        "model.fit(X_train, y_train, \n",
        "          batch_size=10, \n",
        "          epochs=50, \n",
        "          verbose=1, \n",
        "          validation_data=(X_test, y_test))"
      ],
      "execution_count": null,
      "outputs": []
    },
    {
      "cell_type": "markdown",
      "source": [
        "**bold text**"
      ],
      "metadata": {
        "id": "YARc6jgSLIUz"
      }
    },
    {
      "cell_type": "markdown",
      "source": [
        "# **Import \"test dataframe\" with \"Pandas\" for prediction.**"
      ],
      "metadata": {
        "id": "EN__xADOLOji"
      }
    },
    {
      "cell_type": "code",
      "source": [
        "df = pd.read_csv('/content/test_X.csv')\n",
        "df"
      ],
      "metadata": {
        "id": "u3sc_clnOmdU"
      },
      "execution_count": null,
      "outputs": []
    },
    {
      "cell_type": "code",
      "source": [
        "cols = ['Rating']\n",
        "\n",
        "# Encode labels of multiple columns at once\n",
        "df[cols] = df[cols].apply(LabelEncoder().fit_transform)\n",
        "\n",
        "# Print head \n",
        "df.head()"
      ],
      "metadata": {
        "id": "HMth8NO3Stv4"
      },
      "execution_count": null,
      "outputs": []
    },
    {
      "cell_type": "code",
      "source": [
        "data2 = df.drop('Rating', axis=1)\n",
        "data2 = data2.values\n",
        "\n",
        "labels2 = df.Rating\n",
        "labels2 = labels2.values"
      ],
      "metadata": {
        "id": "sXlUm7pkVhiu"
      },
      "execution_count": null,
      "outputs": []
    },
    {
      "cell_type": "markdown",
      "source": [
        "#  Use Trained Deep Leaning Neural Network Model for Prediction.\n"
      ],
      "metadata": {
        "id": "uJZFfW37CcNF"
      }
    },
    {
      "cell_type": "code",
      "source": [
        "np.array(data2)"
      ],
      "metadata": {
        "id": "Flm0SkKwaETL"
      },
      "execution_count": null,
      "outputs": []
    },
    {
      "cell_type": "code",
      "source": [
        "Test_y_predictions = model.predict(data2)\n",
        "Test_y_predictions"
      ],
      "metadata": {
        "id": "uwWs9USUC2X-"
      },
      "execution_count": null,
      "outputs": []
    }
  ]
}